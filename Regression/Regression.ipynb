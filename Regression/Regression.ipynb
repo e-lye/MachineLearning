{
  "cells": [
    {
      "cell_type": "markdown",
      "metadata": {
        "id": "lGbNlDvXBu0M"
      },
      "source": [
        "# Imports"
      ]
    },
    {
      "cell_type": "code",
      "execution_count": 91,
      "metadata": {
        "id": "ouRYE06LRpSA"
      },
      "outputs": [],
      "source": [
        "import io\n",
        "import os\n",
        "import json\n",
        "import math\n",
        "import numpy as np\n",
        "import pandas as pd\n",
        "%matplotlib notebook\n",
        "%matplotlib inline\n",
        "import matplotlib.pyplot as plt\n",
        "# Debugging Libraries\n",
        "from IPython.core.debugger import set_trace\n",
        "import warnings\n",
        "warnings.filterwarnings('ignore')\n",
        "#Scikit Libraries\n",
        "import sklearn\n",
        "from sklearn import model_selection\n",
        "from sklearn.preprocessing import StandardScaler\n",
        "from sklearn.model_selection import train_test_split\n",
        "from sklearn.datasets import fetch_20newsgroups\n",
        "from sklearn.feature_extraction.text import CountVectorizer\n",
        "from sklearn.feature_extraction.text import TfidfTransformer\n",
        "from sklearn.metrics import mutual_info_score\n",
        "from sklearn.metrics import accuracy_score\n",
        "from sklearn.neighbors import KNeighborsClassifier\n",
        "#URL/ File Extraction Libraries\n",
        "import tarfile\n",
        "import urllib.request as urllib\n",
        "from sklearn import preprocessing\n",
        "\n",
        "np.random.seed(1234)"
      ]
    },
    {
      "cell_type": "markdown",
      "metadata": {
        "id": "K5wm7teUzRpJ"
      },
      "source": [
        "# Part 1 : IMDB and Logistic Regression"
      ]
    },
    {
      "cell_type": "markdown",
      "metadata": {
        "id": "80etrcb5Ce9y"
      },
      "source": [
        "## [IMDB] Data Initialization\n",
        "\n",
        "In this section, I first download the file from this [link](http://ai.stanford.edu/~amaas/data/sentiment/aclImdb_v1.tar.gz). I then clean it by filtering out words that are rare, stop, and have high p-values."
      ]
    },
    {
      "cell_type": "markdown",
      "metadata": {
        "id": "viXpBW9g7lWF"
      },
      "source": [
        "### Data Import"
      ]
    },
    {
      "cell_type": "code",
      "execution_count": 92,
      "metadata": {
        "id": "b8QlZEiQDYnU"
      },
      "outputs": [],
      "source": [
        "# open file\n",
        "rt = urllib.urlopen(\"http://ai.stanford.edu/~amaas/data/sentiment/aclImdb_v1.tar.gz\")\n",
        "tarfile.open(fileobj=rt,mode='r:gz').extractall('./sample_data')"
      ]
    },
    {
      "cell_type": "code",
      "execution_count": 93,
      "metadata": {
        "id": "T3Irrw94eJ2Z"
      },
      "outputs": [],
      "source": [
        "# get the list of words included from \n",
        "with open(\"/content/sample_data/aclImdb/imdb.vocab\",\"r\") as file:\n",
        "  words = [line.rstrip('\\n') for line in file]\n",
        "\n",
        "# Initialize the file names\n",
        "fnames_train_neg = os.listdir(\"/content/sample_data/aclImdb/train/neg\")\n",
        "ffnames_train_neg = [\"/content/sample_data/aclImdb/train/neg/\"+fname for fname in fnames_train_neg]\n",
        "fnames_train_pos = os.listdir(\"/content/sample_data/aclImdb/train/pos\")\n",
        "ffnames_train_pos = [\"/content/sample_data/aclImdb/train/pos/\"+fname for fname in fnames_train_pos]\n",
        "\n",
        "fnames_train = fnames_train_neg + fnames_train_pos\n",
        "ffnames_train = ffnames_train_neg + ffnames_train_pos"
      ]
    },
    {
      "cell_type": "markdown",
      "metadata": {
        "id": "W_YGeO2IDAIV"
      },
      "source": [
        "### Data Cleaning"
      ]
    },
    {
      "cell_type": "markdown",
      "metadata": {
        "id": "2ngZyKfHMZvQ"
      },
      "source": [
        "#### 1.1 Rare and Stopwords\n",
        "In this first half of the cleaning process, I gather the rare and stopwords from the TRAINING data, then filter those features out from both the TRAINING AND TESTING DATA."
      ]
    },
    {
      "cell_type": "markdown",
      "metadata": {
        "id": "U2ibkYPBCRUL"
      },
      "source": [
        "This was the code that I used to find *how many files each word appears in the training data*. \n",
        "\n",
        "HOWEVER, since I ran a brute-force algorithm, the completion time of the code took **60 minutes**.\n",
        "\n",
        "For this reason, I immediately saved the results into a text file after the first and only execution of the code, and now I load it from my Github instead of having to run this 60 min blurb every time. \n",
        "\n",
        "```\n",
        "from sklearn.datasets import load_svmlight_file\n",
        "from google.colab import files\n",
        "X,y = load_svmlight_file(\"/content/sample_data/aclImdb/train/labeledBow.feat\", dtype=\"uint8\")\n",
        "\n",
        "filecount = np.zeros(len(words))\n",
        "print(filecount.shape)\n",
        "print(X.getrow(0).toarray()[0].shape)\n",
        "\n",
        "for i in range(0, X.shape[0]):\n",
        "  rev_count = X.getrow(i).toarray()[0]\n",
        "  for j in range(0, rev_count.shape[0]):\n",
        "    if (rev_count[j] != 0):\n",
        "      filecount[j]+=1\n",
        "\n",
        "np.savetxt(\"filecount_byindex.txt\", filecount,fmt=\"%i\")\n",
        "files.download('/content/filecount_byindex.txt')\n",
        "```\n",
        "\n",
        "\n",
        "\n",
        "\n"
      ]
    },
    {
      "cell_type": "markdown",
      "metadata": {
        "id": "MlvQoSXmDusW"
      },
      "source": [
        "This code imports my results from running the above code."
      ]
    },
    {
      "cell_type": "code",
      "execution_count": 94,
      "metadata": {
        "colab": {
          "base_uri": "https://localhost:8080/"
        },
        "id": "GILVx6a_89WA",
        "outputId": "0f94ab36-8f1f-4600-b636-a3db180e7823"
      },
      "outputs": [
        {
          "name": "stdout",
          "output_type": "stream",
          "text": [
            "Total entries before cleaning: 89527\n",
            "Total entries that are rare: 87756\n",
            "Total entries that are stopwords: 27\n",
            "Total entries after cleaning: 1744\n"
          ]
        }
      ],
      "source": [
        "# Data of how many files each word appears in.\n",
        "# filecount_idx : How many files each word appears in (Dictionary, where Key = Word)\n",
        "f_filecount_arr = urllib.urlopen(\"https://raw.githubusercontent.com/e-lye/MachineLearning/main/LogisticRegression/processed-data/filecount_byindex.txt\")\n",
        "filecount_arr = np.loadtxt(f_filecount_arr, dtype=int)\n",
        "\n",
        "filecount_dic_filtered = {}\n",
        "for i in range(0, filecount_arr.shape[0]):\n",
        "  if (filecount_arr[i] >= 250 and filecount_arr[i] <= 12500):\n",
        "    filecount_dic_filtered[i] = filecount_arr[i]\n",
        "\n",
        "print(f\"Total entries before cleaning: {filecount_arr.shape[0]}\")\n",
        "print(f\"Total entries that are rare: {np.count_nonzero(filecount_arr < 250)}\")\n",
        "print(f\"Total entries that are stopwords: {np.count_nonzero(filecount_arr > 12500)}\")\n",
        "print(f\"Total entries after cleaning: {len(filecount_dic_filtered)}\")"
      ]
    },
    {
      "cell_type": "markdown",
      "metadata": {
        "id": "ilV3zLP66v-Q"
      },
      "source": [
        "After getting the list of rare and stop words, I clean them out from the data and create a dataframe with the filtered information."
      ]
    },
    {
      "cell_type": "markdown",
      "metadata": {
        "id": "w-jTdVbcO6Ax"
      },
      "source": [
        "The code below is the code ran to create a dataframe without the rare/stop words. After getting the results, I saved it to a CSV as well, and now upload it through my github instead of having to run this code again.\n",
        "\n",
        "```\n",
        "from sklearn.datasets import load_svmlight_file\n",
        "from google.colab import files\n",
        "X,y = load_svmlight_file(\"/content/sample_data/aclImdb/train/labeledBow.feat\", dtype=\"uint8\")\n",
        "\n",
        "feature_labels = list(filecount_dic_filtered.keys())\n",
        "\n",
        "df = pd.DataFrame(columns=feature_labels)\n",
        "\n",
        "for i_feat in feature_labels:\n",
        "  df[i_feat] = np.transpose(X.getcol(i_feat).toarray())[0]\n",
        "\n",
        "df[\"RATING\"]=y\n",
        "df.to_csv(\"df_cleaned-pt1.csv\")\n",
        "```\n",
        "\n"
      ]
    },
    {
      "cell_type": "code",
      "execution_count": 95,
      "metadata": {
        "id": "qEWyj279atez"
      },
      "outputs": [],
      "source": [
        "# This imports the data saved from the code above.\n",
        "url_train = 'https://raw.githubusercontent.com/e-lye/MachineLearning/main/LogisticRegression/processed-data/df_cleaned-pt1.csv'\n",
        "df_train = pd.read_csv(url_train,index_col=0)\n",
        "\n",
        "url_test = \"https://raw.githubusercontent.com/e-lye/MachineLearning/main/LogisticRegression/processed-data/df_test_cleaned-pt1.csv\"\n",
        "df_test = pd.read_csv(url_test, index_col=0)"
      ]
    },
    {
      "cell_type": "markdown",
      "metadata": {
        "id": "a-9AoRI66Txc"
      },
      "source": [
        "#### 1.1 Z-Score & Hypothesis Testing\n",
        "In this section, I filter out all the words that do not have a significant enough P-Value (p-value > 0.05) before finalizing the cleaned data and variables."
      ]
    },
    {
      "cell_type": "markdown",
      "metadata": {
        "id": "XFhJo-CHbFJB"
      },
      "source": [
        "1. I first get the Z-Score and P-Values of the training data."
      ]
    },
    {
      "cell_type": "code",
      "execution_count": 96,
      "metadata": {
        "id": "TXpQ-WdHDrem"
      },
      "outputs": [],
      "source": [
        "#scipy.stats used for calculating p values\n",
        "import scipy.stats \n",
        "\n",
        "# Data ARRAY\n",
        "df_train_array = df_train.to_numpy()\n",
        "x1_train = df_train_array[:,:-1]\n",
        "y1_train = df_train_array[:,-1]\n",
        "N = x1_train.shape[0]\n",
        "D = 600\n",
        "\n",
        "# Standardized Data ARRAY\n",
        "df_train_array_std = df_train_array.copy()\n",
        "for i in range(0, df_train_array.shape[1]):\n",
        "  df_train_array_std[:,i]= (df_train_array[:,i] - df_train_array[:,i].mean())/df_train_array[:,i].std()\n",
        "\n",
        "x1_train_std = df_train_array_std[:,:-1]\n",
        "y1_train_std = df_train_array_std[:,-1]\n",
        "\n",
        "# Z scores of all attributes\n",
        "zscore = np.dot(np.transpose(x1_train_std), y1_train_std) / math.sqrt(N)\n",
        "\n",
        "# Calculate P values\n",
        "# Double-Tailed Test: scipy.stats.norm.sf(abs(zscore[i]))*2\n",
        "# Single-Tailed Test: scipy.stats.norm.sf(abs(zscore[i]))\n",
        "pvalue = scipy.stats.norm.sf(abs(zscore))*2"
      ]
    },
    {
      "cell_type": "markdown",
      "metadata": {
        "id": "uFPx1k7x5uNy"
      },
      "source": [
        "2. Next, I isolate all the features with a significant enough pvalue."
      ]
    },
    {
      "cell_type": "code",
      "execution_count": 97,
      "metadata": {
        "id": "wrsY700vCVnK"
      },
      "outputs": [],
      "source": [
        "#using Null Distribution, we can say that if z-score is greater or less than 1.96, it is significant enough.\n",
        "np.count_nonzero(abs(zscore) < 1.96)\n",
        "\n",
        "features_significant = {}\n",
        "\n",
        "for i in range (0, x1_train.shape[1]):\n",
        "  if (pvalue[i] < 0.05):\n",
        "    features_significant[i]=pvalue[i]\n",
        "\n",
        "\n",
        "features_final = sorted(features_significant, key=features_significant.get)[:D]"
      ]
    },
    {
      "cell_type": "markdown",
      "metadata": {
        "id": "AP0ompVZaAo-"
      },
      "source": [
        "3. Lastly, I filter out the insignificant features in the training and testing data. These are the final variables, after cleaning everything."
      ]
    },
    {
      "cell_type": "code",
      "execution_count": 98,
      "metadata": {
        "id": "4g90xdyPPmxO"
      },
      "outputs": [],
      "source": [
        "df_train = df_train[df_train.columns[features_final+[1744]]]\n",
        "df_test = df_test[df_test.columns[features_final+[1744]]]\n",
        "df_train_array = df_train.to_numpy()\n",
        "dfnp_test = df_test.to_numpy()\n",
        "x1_train = df_train_array[:,:-1]\n",
        "y1_train = df_train_array[:,-1]\n",
        "x1_test = dfnp_test[:,:-1]\n",
        "y1_test = dfnp_test[:,-1]\n",
        "N = x1_train.shape[0]\n",
        "D = x1_train.shape[1]"
      ]
    },
    {
      "cell_type": "markdown",
      "metadata": {
        "id": "-VrjoloCkQaq"
      },
      "source": [
        "#### Top 20 Words (From Z-Score)"
      ]
    },
    {
      "cell_type": "code",
      "execution_count": 99,
      "metadata": {
        "id": "eARfZxy_JC6a"
      },
      "outputs": [],
      "source": [
        "feature_labels = list(filecount_dic_filtered.keys())\n",
        "\n",
        "x1_train_std = df_train_array_std[:,:-1]\n",
        "y1_train_std = df_train_array_std[:,-1]\n",
        "\n",
        "# store significant enough z-scores\n",
        "zscore_significant = {}\n",
        "zscore_significant_abs = {}\n",
        "\n",
        "for i in range (0, x1_train.shape[1]):\n",
        "  if (abs(zscore[i]) > 1.96):\n",
        "    zscore_significant[i]=zscore[i]\n",
        "    zscore_significant_abs[i]= abs(zscore[i])\n",
        "\n",
        "zscore_sorted = {k: v for k, v in sorted(zscore_significant_abs.items(), key=lambda item: item[1], reverse=True)}\n",
        "x1_top20 = list(zscore_sorted.keys())[:20]\n",
        "y_axis = []\n",
        "x_axis = []\n",
        "\n",
        "for i in range(len(x1_top20)): \n",
        "  x_axis.append(zscore_significant[x1_top20[i]])\n",
        "  y_axis.append(words[feature_labels[x1_top20[i]]])\n"
      ]
    },
    {
      "cell_type": "code",
      "execution_count": 100,
      "metadata": {
        "colab": {
          "base_uri": "https://localhost:8080/",
          "height": 296
        },
        "id": "8HWuKSdaV-Gw",
        "outputId": "c9cbaed3-7dec-4fba-d89c-49246fdd74b8"
      },
      "outputs": [
        {
          "data": {
            "text/plain": [
              "<function matplotlib.pyplot.show(*args, **kw)>"
            ]
          },
          "execution_count": 100,
          "metadata": {},
          "output_type": "execute_result"
        },
        {
          "data": {
            "text/plain": [
              "<Figure size 432x288 with 0 Axes>"
            ]
          },
          "metadata": {},
          "output_type": "display_data"
        },
        {
          "data": {
            "image/png": "[encoded data removed]",
            "text/plain": [
              "<Figure size 432x243 with 1 Axes>"
            ]
          },
          "metadata": {
            "needs_background": "light"
          },
          "output_type": "display_data"
        }
      ],
      "source": [
        "plt.clf()\n",
        "plt.figure(figsize=(6, 6/(16/9)))\n",
        "plt.barh(list(reversed(y_axis)), list(reversed(x_axis)),0.5)\n",
        "plt.title(\"Top 20 Words by Z-Score\")\n",
        "plt.ylabel(\"Z-Score\")\n",
        "plt.xlabel(\"Words\")\n",
        "plt.show"
      ]
    },
    {
      "cell_type": "markdown",
      "metadata": {
        "id": "mvpgFLkqPWtA"
      },
      "source": [
        "## Logistic Regression\n",
        "In this section, I run logistic regression on the IMDB data set, to predict whether the rating will be above 5."
      ]
    },
    {
      "cell_type": "code",
      "execution_count": 101,
      "metadata": {
        "id": "Qa6LhEU-dCxH"
      },
      "outputs": [],
      "source": [
        "logistic = lambda z: 1./ (1 + np.exp(-z))       #logistic function\n",
        "logit = lambda yhat: yhat/(1-yhat)\n",
        "\n",
        "def cost_fn(x, y, w):\n",
        "    N, D = x.shape                                                       \n",
        "    z = np.dot(x, w)\n",
        "    J = np.mean(y * np.log1p(np.exp(-z)) + (1-y) * np.log1p(np.exp(z)))  #log1p calculates log(1+x) to remove floating point inaccuracies \n",
        "    return J\n",
        "\n",
        "def gradient(self, x, y):\n",
        "    N,D = x.shape\n",
        "    yh = logistic(np.dot(x, self.w))    # predictions  size N\n",
        "    grad = np.dot(x.T, yh - y)/N        # divide by N because cost is mean over N points\n",
        "    return grad                         # size D"
      ]
    },
    {
      "cell_type": "markdown",
      "metadata": {
        "id": "5crMG6YqSmU-"
      },
      "source": [
        "### Logistic Regression Class"
      ]
    },
    {
      "cell_type": "code",
      "execution_count": 102,
      "metadata": {
        "id": "QAmtXgFNSox4"
      },
      "outputs": [],
      "source": [
        "class LogisticRegression:\n",
        "    \n",
        "    def __init__(self, add_bias=True, learning_rate=.1, epsilon=1e-4, max_iters=1e5, verbose=False):\n",
        "        self.add_bias = add_bias\n",
        "        self.learning_rate = learning_rate\n",
        "        self.epsilon = epsilon                        #to get the tolerance for the norm of gradients \n",
        "        self.max_iters = max_iters                    #maximum number of iteration of gradient descent\n",
        "        self.verbose = verbose\n",
        "\n",
        "    def gradient(self, x, y):\n",
        "        N,D = x.shape\n",
        "        yh = logistic(np.dot(x, self.w))    # predictions  size N\n",
        "        grad = np.dot(x.T, yh - y)/N        # divide by N because cost is mean over N points\n",
        "        return grad,yh\n",
        "        \n",
        "    def fit(self, x, y):\n",
        "        if x.ndim == 1:\n",
        "            x = x[:, None]\n",
        "        if self.add_bias:\n",
        "            N = x.shape[0]\n",
        "            x = np.column_stack([x,np.ones(N)])\n",
        "        N,D = x.shape\n",
        "        self.w = np.zeros(D)\n",
        "        g = np.inf \n",
        "        t = 0\n",
        "        ce_all = np.zeros(3000)\n",
        "        # the code snippet below is for gradient descent\n",
        "        while np.linalg.norm(g) > self.epsilon and t < self.max_iters:\n",
        "            #ce_all[i] = np.sum(y * np.log1p(np.exp(-a)) + (1-y) * np.log1p(np.exp(a)))\n",
        "            g ,a= self.gradient(x, y)\n",
        "            ce_all[t] = np.sum(y * np.log1p(np.exp(-a)) + (1-y) * np.log1p(np.exp(a)))\n",
        "            self.w = self.w - self.learning_rate * g \n",
        "            t += 1\n",
        "        \n",
        "        if self.verbose:\n",
        "            print(f'terminated after {t} iterations, with norm of the gradient equal to {np.linalg.norm(g)}')\n",
        "            print(f'the weight shape found: {self.w.shape}')\n",
        "            ce_all = ce_all[:t]\n",
        "            ce_all = preprocessing.scale(ce_all)\n",
        "            plt.clf()\n",
        "            plt.figure(figsize=((16/9)*3.6,3.6))\n",
        "            plt.plot(ce_all)\n",
        "            plt.ylabel(\"Cross entropy\")\n",
        "            plt.xlabel(\"iteration\")\n",
        "            #plt.title(f\"True w={w_true}; Estimated w={round(w.astype(float)[0],2)}\")\n",
        "            \n",
        "            plt.title(\"CE Loss for Logistic Regression\")\n",
        "            # plt.show()\n",
        "            plt.savefig('ce_iteration.png', bbox_inches=\"tight\", dpi=300)\n",
        "        return self\n",
        "    \n",
        "    def predict(self, x):\n",
        "        if x.ndim == 1:\n",
        "            x = x[:, None]\n",
        "        Nt = x.shape[0]\n",
        "        if self.add_bias:\n",
        "            x = np.column_stack([x,np.ones(Nt)])\n",
        "        yh = logistic(np.dot(x,self.w))            #predict output\n",
        "        return yh\n",
        "\n",
        "# LogisticRegression.gradient = gradient             #initialize the gradient method of the LogisticRegression class with gradient function"
      ]
    },
    {
      "cell_type": "markdown",
      "metadata": {
        "id": "YT1IYAJPcd2M"
      },
      "source": [
        "### IMDB Dataset Application\n"
      ]
    },
    {
      "cell_type": "markdown",
      "metadata": {
        "id": "mT3yqYhRU7H4"
      },
      "source": [
        "I first calculate and visualize the effect size of the features. "
      ]
    },
    {
      "cell_type": "code",
      "execution_count": 103,
      "metadata": {
        "colab": {
          "base_uri": "https://localhost:8080/",
          "height": 398
        },
        "id": "bpBHWOTfTZ_U",
        "outputId": "249eb5f1-3b4b-41dd-f185-93bff56e3d4e"
      },
      "outputs": [
        {
          "name": "stdout",
          "output_type": "stream",
          "text": [
            "terminated after 1000 iterations, with norm of the gradient equal to 0.0016823878551570667\n",
            "the weight shape found: (601,)\n",
            "       77       240       427       83       368        46       373      369      309       422      115        55       503       363       344       584        53       156       328      114       225      459       760       109       407      437      392      493       622       111        40       267       856      297       813      870      1103        88       221      509      748      529       133      1179      1014      79       598       149      1197       439       906      897      1270      116      1606       52        97      489      190       868      229       216       409     1251        94     204       71       294      691       42      340       581       37       734      1285      150        23        95       270    1616        39      916     1243     1287        60       224      174     950      488       179       955       702      799       371      1359       223      1814       953      738       566       466       971       154       36        33        91      343       768        81      952      1627     1256       142      512       474     1132      279       525        58      891      245      922      1173      388       725       260      268       591      129       123       655     1463       273      209    1325      126      1185      252      276      1844       454       35       583     1824      1596      282     1143      552      387     1012      1158      159       61       212      1289       346      587      261       312       549    1842      1244      1016     1237       355       138      787      442     1266       561      196      139      879       144     1383      342       76     1676       333      310      475       570       586      1065       672      246      1505     1586     1097       593     1202      1338       582       918     1032      194      1479      106      125       325       185     1233       791      413      289       43       531     1278      1517    1469     1234      366      644      1020       271      805      242      921       176       639       895       857      889      199       87       562       751      1468     1615      461     1775       299      251      592      620     1377      396       681      495      1052     1190       428       832    1269      1523       257      1552      617     1435       520      675     1528       313     1198      772       766   1470        67      449     1176     1363     1127       266     1511       968       831      518     707       400      121      1557       90      291      1129       148       855      1857      1767     1756     1527      982      1390     1626       117     1532     1392       572       255      385     1117     1275       770       927      756      1166       404       415       244      774     809       38       451        73      1340      166      1149       217       573     1817      458      124     1272      522      847      714      290      519      712       771     1095      536      161       189      1451       476      375      878     1498      1079     1216     1852      1321      178    1100     1420       82      571       208      834    1384      86      173     1794      250       211     1002      1130      323       559       89      1644       487      699      187     1445     1630      1280        30        65     1419      202      1770      872      1495      157      935      191     1360       172      1694      677     1708      560      253      629      386     175      131      1444      1731       424      1685       228      278     1553      1466      835      1199       74      220     1068       815      653       660       745     1175     1873     1792      995      1342      499       668       836       395     1672       397      1114      1348      1938      684    1188       530    1299      1456       384      453      931     287       892       21     1187      452      1741       381      379      1450       657      1855     1043       193       637      354      238       471      1223     1126     1040       688      1083      577      801       666      563      339    806     1186       966       925      370       721      754     1483     1120      1745     1240     1331     1737      642      1267       32       853      1465      737    162      615       47       434      619       611      574     1437       683      360       455       680       443       614     406       50     479      219       554      698      1370     104     1318      769      298     383     1196      1356     1746     1121      275     1664    1264      781       915      319     1228     1170     1150      1796    1619      979      933     1597      1252       648     1174      467      412      662      353        34      873      811     1093      105        63       651     274       49       865       613      134      578       607      118       757    119       736      557       382       907       605      1816     523     1699      420      664      463       44      724      180      506       151    1507      885       992       284     1353      1156      331       508      182      1761     1067        31       62       163       85      987      903      1001       839     1220      393      1217      1760      78       547      348       524      462       292      1261     432       152      1096      145       726      300       192      1719      168       374       948       945     1364       491      1034      1333      470      612      1081       362     1107     1341      286\n",
            "-0.354547 -0.514318 -0.428658 0.409049 -0.380748 -0.277803 -0.235084 0.201716 0.333914 -0.236992 0.276506 -0.163146 -0.246474 -0.148077 -0.285027 -0.113373 -0.145413 -0.184774 -0.228912 0.125278 -0.136264 0.215412 -0.197557 -0.064687 -0.141577 0.188585 0.250986 0.217719 -0.173391 -0.093562 -0.111379 -0.073239 -0.286867 0.127181 -0.162704 0.177027 -0.206484 -0.016799 -0.161942 0.145075 0.165387 0.150593 -0.029181 -0.129583 -0.170419 0.11615 -0.232118 -0.018272 -0.124983 -0.128068 -0.188905 -0.18557 -0.209056 0.077276 -0.174576 0.120634 -0.068565 0.169274 0.107392 -0.102415 0.039948 -0.118344 -0.080602 0.114466 -0.079891 0.06758 0.187791 -0.150097 -0.08075 0.010222 0.092933 -0.174024 -0.03752 -0.247006 -0.052125 0.061379 -0.019748 -0.065095 -0.104459 0.19471 -0.004983 0.149119 0.084087 0.089751 -0.104612 -0.064733 0.080541 0.07246 0.131842 -0.045612 -0.046732 -0.141145 0.069928 -0.020721 -0.038222 -0.007599 -0.079256 -0.155499 0.110379 -0.126526 -0.080526 -0.074681 -0.021882 0.029541 -0.008178 -0.074268 0.080122 -0.115142 -0.005414 0.087999 -0.057327 0.120257 -0.034235 0.077798 -0.037244 0.105389 0.094374 -0.029234 -0.102475 0.041339 0.051381 0.082916 -0.039275 0.050605 -0.074594 -0.149628 -0.09365 -0.042643 -0.07204 -0.080255 -0.063263 0.113929 -0.049882 0.026668 0.07645 0.177473 -0.061498 0.094952 0.097325 -0.085027 -0.189708 0.047358 -0.057836 0.101157 -0.156143 0.119866 0.104883 0.080233 0.157896 0.143811 -0.097713 0.032699 0.035898 -0.018119 -0.128978 -0.080992 0.125779 0.050746 -0.112935 -0.000482 0.10082 -0.108631 -0.036082 0.145363 -0.068165 -0.035423 0.051864 0.028126 0.131181 -0.030818 0.053552 -0.06697 0.017193 -0.038493 0.046023 0.117005 0.093716 0.052608 -0.051858 0.034944 0.059557 -0.014728 -0.078038 -0.068188 -0.026789 0.041075 -0.090716 0.134882 0.068207 -0.034755 -0.08888 -0.216923 -0.084091 -0.021905 0.080224 0.000468 -0.048432 0.028749 0.044703 -0.067115 -0.039162 -0.05836 -0.140784 0.033991 0.019273 0.061729 -0.073851 -0.16984 -0.058793 0.04206 0.061372 0.066451 0.099564 -0.065391 -0.010497 0.114363 0.203889 0.043516 -0.008475 -0.036143 -0.056666 -0.032318 0.030205 0.093577 0.096305 -0.092239 -0.083966 -0.112896 0.098654 0.051716 -0.04917 -0.026086 0.050719 0.051793 0.075424 0.082401 0.080511 -0.116401 0.035337 -0.036672 -0.00896 -0.102595 -0.087177 0.06706 -0.090248 -0.083102 -0.068029 0.133461 0.022641 -0.023489 0.068201 0.048064 -0.029612 0.004207 0.045471 -0.022756 0.1402 -0.058895 0.010609 0.024484 0.040268 0.008889 -0.040047 0.033389 -0.056601 -0.066964 0.024259 0.00986 -0.044144 0.066912 -0.042524 0.022499 0.072142 -0.048896 -0.095232 -0.003835 -0.137043 -0.050661 0.054541 0.059904 0.068106 -0.030852 0.060327 -0.037885 0.097613 0.062633 -0.146689 -0.019148 0.026332 0.121433 0.021377 -0.023997 -0.023804 0.123416 -0.095542 -0.058613 -0.010211 -0.042815 0.045821 0.12967 0.007613 -0.090797 -0.050894 -0.034043 0.018973 -0.000599 -0.016912 -0.013936 0.053353 0.055248 0.016362 0.052814 0.026455 0.014145 0.057415 0.014366 0.033242 0.156622 -0.020702 0.007844 -0.00211 0.133069 -0.067941 -0.067395 -0.087288 -0.01408 0.012422 0.068628 -0.049401 0.083344 0.049181 -0.097558 0.036685 0.06499 -0.08547 0.034263 0.050661 -0.017195 0.107863 0.08199 0.08265 0.044635 0.076763 0.041859 -0.004928 0.009488 -0.024232 0.012717 -0.099139 0.028047 -0.049715 -0.000493 0.007938 0.012804 0.038615 0.080796 -0.125016 -0.092504 -0.021451 0.094163 0.084601 -0.072326 0.041052 -0.015742 0.050866 0.030976 0.107184 0.087274 -0.028573 -0.096506 0.064037 0.060782 0.020781 0.034307 0.017766 0.043934 0.04018 0.039323 -0.169451 -0.052965 -0.057137 -0.003194 -0.062517 0.079482 0.041146 -0.000978 0.059595 -0.020537 0.082207 0.070898 0.081334 -0.021444 0.049807 -0.012769 -0.001682 0.063659 0.086755 0.023958 0.010375 -0.029791 0.069552 -0.145328 -0.048851 -0.008805 0.053049 -0.044862 -0.071563 -0.033754 -0.059517 0.088748 0.05556 -0.037241 0.05328 -0.007703 -0.029952 0.034326 0.006732 0.03127 -0.022645 0.017999 0.018105 0.030053 -0.050293 -0.017349 -0.02063 -0.072633 -0.104424 -0.044541 0.073462 -0.136444 -0.008398 0.039205 0.027922 -0.092195 -0.030094 0.017119 -0.07588 -0.011813 -0.097438 0.016677 0.059137 -0.002328 0.005321 0.011639 0.0392 0.122532 -0.001519 -0.000808 0.063013 -0.002244 0.050578 0.075337 0.053055 -0.054746 0.053138 0.018988 0.027267 0.017274 -0.025426 0.021797 -0.011058 -0.004531 0.059306 0.0426 0.023072 0.026892 -0.021143 0.025528 -0.022034 0.054022 -0.08203 -0.026061 0.084152 -0.024489 -0.027406 -0.043587 -0.019909 0.12316 0.037096 0.02147 0.163457 -0.046423 0.033686 -0.014298 0.00786 0.107598 0.028246 0.028767 0.04792 0.023494 -0.043465 0.044725 0.069319 0.056601 0.000866 0.00883 0.008282 -0.019419 0.005802 0.107244 -0.00869 0.011712 -0.029187 0.02732 0.051368 0.019463 0.031977 -0.067856 -0.028783 0.035913 0.009083 0.002012 0.099619 0.038335 -0.011816 -0.07433 0.024653 0.059787 0.014962 -0.017895 -0.024471 0.03765 0.067507 -0.013798 -0.017201 0.048202 0.007157 -0.018994 0.008753 -0.079107 0.0645 -0.014914 0.030954 -0.030275 -0.065109 -0.016489 -0.008575 -0.0088 0.040935 0.015225 0.017968 0.022339 0.060513 -0.03578 -0.10873 0.018803 -0.030904 0.05684 0.004614 -0.038818 -0.084456 0.070633 -0.039475 0.016787 -0.030875 0.074344 -0.038544 0.055849 -0.028502 0.057953 -0.024648 0.047615 0.034876 0.037028 -0.129258 -0.001995 0.053044 0.001274 -0.040631 -0.009254 0.06342 -0.014092 -0.01024 -0.044983 0.010004 -0.049955 -0.012552 0.07018 -0.111749 -0.041964 0.026715 -0.036602 0.009638 -0.001936 -0.049855 0.063732 -0.000081 -0.046315 -0.018323 0.056647 -0.032336 -0.004818 -0.020092 0.081107 0.023009 -0.037513 -0.031172 0.008227 0.009104 0.074625\n"
          ]
        },
        {
          "data": {
            "text/plain": [
              "pandas.core.frame.DataFrame"
            ]
          },
          "execution_count": 103,
          "metadata": {},
          "output_type": "execute_result"
        },
        {
          "data": {
            "text/plain": [
              "<Figure size 432x288 with 0 Axes>"
            ]
          },
          "metadata": {},
          "output_type": "display_data"
        },
        {
          "data": {
            "image/png": "[encoded data removed]",
            "text/plain": [
              "<Figure size 460.8x259.2 with 1 Axes>"
            ]
          },
          "metadata": {
            "needs_background": "light"
          },
          "output_type": "display_data"
        }
      ],
      "source": [
        "x1_train = df_train_array[:,:-1]\n",
        "y1_train = df_train_array[:,-1]\n",
        "x1_test = dfnp_test[:,:-1]\n",
        "y1_test = dfnp_test[:,-1]\n",
        "\n",
        "y1_train_binary = (y1_train > 5).astype(int)\n",
        "y1_test_binary = (y1_test > 5).astype(int)\n",
        "x1_train_std = StandardScaler().fit(x1_train).transform(x1_train)\n",
        "x1_test_std = StandardScaler().fit(x1_test).transform(x1_test)\n",
        "\n",
        "logitreg = LogisticRegression(max_iters=1e3,verbose = True)\n",
        "fit = logitreg.fit(x1_train_std, y1_train_binary)\n",
        "\n",
        "effect_size = pd.DataFrame(fit.w[:(len(fit.w)-1)]).transpose()\n",
        "effect_size.columns = df_train.drop([\"RATING\"],axis = 1).columns\n",
        "print(effect_size.to_string(index=False))\n",
        "type(effect_size)\n"
      ]
    },
    {
      "cell_type": "code",
      "execution_count": 104,
      "metadata": {
        "colab": {
          "base_uri": "https://localhost:8080/",
          "height": 266
        },
        "id": "lahhiWFcypRS",
        "outputId": "70adf689-af3c-49f0-da10-a812b04c3755"
      },
      "outputs": [
        {
          "data": {
            "text/plain": [
              "<Figure size 432x288 with 0 Axes>"
            ]
          },
          "metadata": {},
          "output_type": "display_data"
        },
        {
          "data": {
            "image/png": "[encoded data removed]",
            "text/plain": [
              "<Figure size 432x243 with 1 Axes>"
            ]
          },
          "metadata": {
            "needs_background": "light"
          },
          "output_type": "display_data"
        },
        {
          "data": {
            "text/plain": [
              "<Figure size 432x288 with 0 Axes>"
            ]
          },
          "metadata": {},
          "output_type": "display_data"
        }
      ],
      "source": [
        "plt.clf()\n",
        "plt.figure(figsize=(6, 6/(16/9)))\n",
        "plt.bar(list(effect_size.columns.values), effect_size.stack().tolist())\n",
        "plt.ylabel(\"effect size\")\n",
        "plt.show()\n",
        "plt.savefig(\"effect_size.png\", bbox_inches='tight', dpi=300)"
      ]
    },
    {
      "cell_type": "markdown",
      "metadata": {
        "id": "IWdI2Z4OCXHy"
      },
      "source": [
        "### Model Evaluation\n",
        "In this section, I evaluate the model and compare it against KNN's accuracy."
      ]
    },
    {
      "cell_type": "markdown",
      "metadata": {
        "id": "y3L_Bfb9cnog"
      },
      "source": [
        "#### Classification Accuracy\n",
        "Logistic Regression and KNN."
      ]
    },
    {
      "cell_type": "code",
      "execution_count": 105,
      "metadata": {
        "colab": {
          "base_uri": "https://localhost:8080/"
        },
        "id": "R9f7y4VlUG34",
        "outputId": "8d343472-a78b-428a-b9bf-d13f8608dbf7"
      },
      "outputs": [
        {
          "name": "stdout",
          "output_type": "stream",
          "text": [
            "train accuracy: 0.87952; test accuracy: 0.86676\n"
          ]
        }
      ],
      "source": [
        "y1_train_log_pred = fit.predict(x1_train_std)\n",
        "y1_test_log_pred = fit.predict(x1_test_std)\n",
        "\n",
        "# Threshold predictions\n",
        "y1_train_log_pred = (y1_train_log_pred > 0.5).astype(int)\n",
        "y1_test_log_pred = (y1_test_log_pred > 0.5).astype(int)\n",
        "\n",
        "# accuracy = correctly classified / total classified\n",
        "acc_train = sum(y1_train_log_pred == y1_train_binary)/len(y1_train_binary)\n",
        "acc_test = sum(y1_test_log_pred==y1_test_binary)/len(y1_test_binary)\n",
        "print(f\"train accuracy: {acc_train:.5f}; test accuracy: {acc_test:.5f}\")"
      ]
    },
    {
      "cell_type": "code",
      "execution_count": 106,
      "metadata": {
        "colab": {
          "base_uri": "https://localhost:8080/"
        },
        "id": "Q_xWYo9vjdVa",
        "outputId": "a475acda-0fb5-452a-b096-53c7a882e5a1"
      },
      "outputs": [
        {
          "name": "stdout",
          "output_type": "stream",
          "text": [
            "train accuracy: 0.80516; test accuracy: 0.69784\n"
          ]
        }
      ],
      "source": [
        "KNN = KNeighborsClassifier(n_neighbors=5)\n",
        "KNN.fit(x1_train_std, y1_train_binary) #comparison to logistic regression\n",
        "\n",
        "# Predict\n",
        "y1_train_knn_pred = KNN.predict(x1_train_std)\n",
        "y1_test_knn_pred = KNN.predict(x1_test_std)\n",
        "\n",
        "# accuracy = correctly classified / total classified\n",
        "acc_train = sum(y1_train_knn_pred == y1_train_binary)/len(y1_train_binary)\n",
        "acc_test = sum(y1_test_knn_pred==y1_test_binary)/len(y1_test_binary)\n",
        "print(f\"train accuracy: {acc_train:.5f}; test accuracy: {acc_test:.5f}\")"
      ]
    },
    {
      "cell_type": "markdown",
      "metadata": {
        "id": "jY3VgXZwIznC"
      },
      "source": [
        "#### Top 20 Words (From W-Coefficient Values)"
      ]
    },
    {
      "cell_type": "code",
      "execution_count": 107,
      "metadata": {
        "colab": {
          "base_uri": "https://localhost:8080/",
          "height": 296
        },
        "id": "pwWYngkDAPFf",
        "outputId": "e4b711a0-2ad4-4ad5-f687-0851c632b8e3"
      },
      "outputs": [
        {
          "data": {
            "text/plain": [
              "<function matplotlib.pyplot.show(*args, **kw)>"
            ]
          },
          "execution_count": 107,
          "metadata": {},
          "output_type": "execute_result"
        },
        {
          "data": {
            "text/plain": [
              "<Figure size 432x288 with 0 Axes>"
            ]
          },
          "metadata": {},
          "output_type": "display_data"
        },
        {
          "data": {
            "image/png": "[encoded data removed]",
            "text/plain": [
              "<Figure size 432x243 with 1 Axes>"
            ]
          },
          "metadata": {
            "needs_background": "light"
          },
          "output_type": "display_data"
        }
      ],
      "source": [
        "word_ind = [eval(i) for i in df_train.columns[:-1].tolist()]\n",
        "w = fit.w[:-1]\n",
        "\n",
        "#positive\n",
        "ind_pos10 = np.argpartition(w, -10)[-10:]\n",
        "#negative\n",
        "ind_neg10 = np.argpartition(w, 10)[:10]\n",
        "# positive + negative\n",
        "ind_top20 = np.concatenate((ind_pos10, ind_neg10))\n",
        "\n",
        "xy_dict = {}\n",
        "for idx in ind_top20:\n",
        "  xy_dict[words[word_ind[idx]]] = w[idx]\n",
        "  \n",
        "xy_dict_sort = {k: v for k, v in sorted(xy_dict.items(), key=lambda item: abs(item[1]))}\n",
        "\n",
        "plt.clf()\n",
        "plt.figure(figsize=(6, 6/(16/9)))\n",
        "plt.barh(list(xy_dict_sort.keys()), list(xy_dict_sort.values()),0.5)\n",
        "plt.title(\"Top 20 Words by Coefficients\")\n",
        "plt.ylabel(\"Coefficients\")\n",
        "plt.xlabel(\"words\")\n",
        "plt.show"
      ]
    },
    {
      "cell_type": "markdown",
      "metadata": {
        "id": "l5mmcxpFAyp6"
      },
      "source": [
        "#### ROC Curve\n",
        "Logistic Regression and KNN.\n",
        "\n",
        "I first run AUROC analysis of Logistic regression vs. KNN on 100% of the data. \n",
        "\n",
        "After that, I run an AUROC analysis of Logistic regression on varying percentages of the original data set."
      ]
    },
    {
      "cell_type": "code",
      "execution_count": 108,
      "metadata": {
        "colab": {
          "base_uri": "https://localhost:8080/",
          "height": 295
        },
        "id": "7yLq64msCcna",
        "outputId": "e24d635d-815a-4278-a6c1-d5fe4d17ad5c"
      },
      "outputs": [
        {
          "data": {
            "image/png": "[encoded data removed]",
            "text/plain": [
              "<Figure size 432x288 with 1 Axes>"
            ]
          },
          "metadata": {
            "needs_background": "light"
          },
          "output_type": "display_data"
        }
      ],
      "source": [
        "from sklearn.metrics import roc_curve, roc_auc_score\n",
        "\n",
        "perf = {}\n",
        "\n",
        "fpr_log, tpr_log, _ = roc_curve(y1_test_binary, y1_test_log_pred)\n",
        "auroc_log = roc_auc_score(y1_test_binary, y1_test_log_pred)\n",
        "perf[\"LogisticRegression (ours)\"] = {'fpr':fpr_log, 'tpr':tpr_log, 'auroc':auroc_log}\n",
        "\n",
        "fpr_knn, tpr_knn, _ = roc_curve(y1_test_binary, y1_test_knn_pred)\n",
        "auroc_knn = roc_auc_score(y1_test_binary, y1_test_knn_pred)\n",
        "perf[\"KNN (sklearn)\"] = {'fpr':fpr_knn, 'tpr':tpr_knn, 'auroc':auroc_knn}\n",
        "\n",
        "plt.clf()\n",
        "i = 0\n",
        "for model_name, model_perf in perf.items():\n",
        "    plt.plot(model_perf['fpr'], model_perf['tpr'],label=model_name)\n",
        "    plt.text(0.4, i+0.1, model_name + ': AUC = '+ str(round(model_perf['auroc'],2)))\n",
        "    i += 0.1\n",
        "\n",
        "plt.plot([0, 1], [0, 1], color=\"navy\", lw=2, linestyle=\"--\")\n",
        "plt.xlim([0.0, 1.0])\n",
        "plt.ylim([0.0, 1.05])\n",
        "\n",
        "plt.xlabel(\"False Positive Rate\")\n",
        "plt.ylabel(\"True Positive Rate\")\n",
        "plt.title('ROC in predicting IMDB Rating > 5')\n",
        "plt.legend(bbox_to_anchor=(1.04, 0.5), loc=\"upper left\")\n",
        "plt.savefig(\"roc_curve.png\", bbox_inches='tight', dpi=300)"
      ]
    },
    {
      "cell_type": "code",
      "execution_count": 109,
      "metadata": {
        "id": "mYdRD-4FNUZc"
      },
      "outputs": [],
      "source": [
        "splitpercent = np.array([0.2, 0.4, 0.6, 0.8, 1.0])\n",
        "\n",
        "x1_train_std #train\n",
        "x1_test_std #predict\n",
        "y1_train_binary\n",
        "aurocs = []\n",
        "logitreg = LogisticRegression(max_iters=1e3)\n",
        "\n",
        "for pc in splitpercent:\n",
        "  stop_idx = int(x1_train_std.shape[0] * pc)\n",
        "  x1_train_roc = x1_train_std[:stop_idx,:]\n",
        "  y1_train_roc = y1_train_binary[:stop_idx]\n",
        "\n",
        "  fit = logitreg.fit(x1_train_roc, y1_train_roc)\n",
        "  y1_test_roc_pred = fit.predict(x1_test_std)\n",
        "  y1_test_roc_pred = (y1_test_roc_pred > 0.5).astype(int)\n",
        "  \n",
        "  fpr_roc, tpr_roc, _ = roc_curve(y1_test_binary, y1_test_roc_pred)\n",
        "  aurocs.append(roc_auc_score(y1_test_binary, y1_test_roc_pred))"
      ]
    },
    {
      "cell_type": "code",
      "execution_count": 110,
      "metadata": {
        "colab": {
          "base_uri": "https://localhost:8080/",
          "height": 284
        },
        "id": "fsuLNXEtUbQq",
        "outputId": "072ee268-d1f6-41a6-8331-6c2636b3169d"
      },
      "outputs": [
        {
          "data": {
            "text/plain": [
              "<function matplotlib.pyplot.show(*args, **kw)>"
            ]
          },
          "execution_count": 110,
          "metadata": {},
          "output_type": "execute_result"
        },
        {
          "data": {
            "text/plain": [
              "<Figure size 432x288 with 0 Axes>"
            ]
          },
          "metadata": {},
          "output_type": "display_data"
        },
        {
          "data": {
            "image/png": "[encoded data removed]",
            "text/plain": [
              "<Figure size 432x243 with 1 Axes>"
            ]
          },
          "metadata": {
            "needs_background": "light"
          },
          "output_type": "display_data"
        }
      ],
      "source": [
        "plt.clf()\n",
        "plt.figure(figsize=(6, 6/(16/9)))\n",
        "plt.bar(splitpercent, aurocs, 0.1)\n",
        "plt.ylim([0,1])\n",
        "plt.ylabel(\"AUROC\")\n",
        "plt.xlabel(\"DATA SIZE\")\n",
        "plt.show"
      ]
    },
    {
      "cell_type": "markdown",
      "metadata": {
        "id": "ducNwqop62vJ"
      },
      "source": [
        "# Part 2 : News and Multiclass Regression"
      ]
    },
    {
      "cell_type": "markdown",
      "metadata": {
        "id": "3odOyOr4qhe3"
      },
      "source": [
        "## [News Group] Data Initialization"
      ]
    },
    {
      "cell_type": "markdown",
      "metadata": {
        "id": "ZGJ_p4GL81Bp"
      },
      "source": [
        "### Data Imports"
      ]
    },
    {
      "cell_type": "code",
      "execution_count": 111,
      "metadata": {
        "id": "OGk4jUTwqZgO"
      },
      "outputs": [],
      "source": [
        "from sklearn.preprocessing import OneHotEncoder\n",
        "from sklearn import metrics\n",
        "from scipy import sparse\n",
        "\n",
        "# Training Data\n",
        "categories = ['comp.graphics', 'rec.sport.hockey', 'sci.med', 'soc.religion.christian']\n",
        "news_data_train = fetch_20newsgroups(subset='train', categories=categories, shuffle=True, random_state=10, remove =(['headers', 'footers', 'quotes']))\n",
        "count_vect_train = sklearn.feature_extraction.text.CountVectorizer(max_df=0.50,min_df=0.01)\n",
        "X_train_counts = count_vect_train.fit_transform(news_data_train.data)\n",
        "\n",
        "# Testing Data\n",
        "news_data_test = fetch_20newsgroups(subset='test',categories=categories, shuffle=True, random_state=42,remove =(['headers', 'footers', 'quotes']))\n",
        "count_vect_test = sklearn.feature_extraction.text.CountVectorizer()\n",
        "X_test_counts = count_vect_test.fit_transform(news_data_test.data)\n",
        "#one_hot the y column\n",
        "\n",
        "#train\n",
        "y_train_50 = np.zeros((news_data_train.target.size, news_data_train.target.max() + 1))\n",
        "y_train_50[np.arange(news_data_train.target.size), news_data_train.target] = 1\n",
        "\n",
        "#test onehot\n",
        "y2_test = np.zeros((news_data_test.target.size, news_data_test.target.max() + 1))\n",
        "y2_test[np.arange(news_data_test.target.size), news_data_test.target] = 1"
      ]
    },
    {
      "cell_type": "markdown",
      "metadata": {
        "id": "0vGzs3hL5fPD"
      },
      "source": [
        "\n",
        "### Data Cleaning\n",
        "In this section, I clean the dataset through their tfidf, since the rare and stopwords were filtered already above via:\n",
        "\n",
        "\n",
        "```\n",
        "sklearn.feature_extraction.text.CountVectorizer(max_df=0.50,min_df=0.01)\n",
        "```"
      ]
    },
    {
      "cell_type": "code",
      "execution_count": 112,
      "metadata": {
        "id": "VVUM5hXi8vff"
      },
      "outputs": [],
      "source": [
        "#get tfidf\n",
        "tfidf_transformer = TfidfTransformer(use_idf=False)\n",
        "X_train_tfidf = tfidf_transformer.fit_transform(X_train_counts)\n",
        "X_train_idf_array = X_train_tfidf.toarray()\n",
        "#K many features\n",
        "K = 100\n",
        "#get MI\n",
        "ind = []\n",
        "MI = np.zeros(X_train_idf_array.shape[1])\n",
        "#for each class(4)\n",
        "for c in range(y_train_50.shape[1]):\n",
        "  #for each feature\n",
        "  for x in range(X_train_idf_array.shape[1]):\n",
        "    MI[x] = metrics.mutual_info_score(X_train_idf_array[:,x],y_train_50[:,c])\n",
        "  #get top 100 features\n",
        "  ind = np.append(ind,np.argpartition(MI, -K)[-K:])\n",
        "\n",
        "#remove dup, then convert to int\n",
        "ind = list(map(int, list(set(ind))))\n",
        "#get x trained filtered\n",
        "X_train_idf_filtered = X_train_idf_array[:,ind]\n",
        "\n",
        "#words for features\n",
        "x_trained_words = count_vect_train.get_feature_names_out()[ind]\n",
        "\n",
        "\n",
        "# Filter out the words for X_test\n",
        "X_train_counts_filtered = np.zeros((X_train_idf_array.shape[0], len(ind)))\n",
        "X_test_counts_filtered = np.zeros((X_test_counts.shape[0], len(ind)))\n",
        "\n",
        "for i in range(0, len(x_trained_words)):\n",
        "  word = x_trained_words[i]\n",
        "  train_index = count_vect_train.get_feature_names().index(word)\n",
        "  test_index = count_vect_test.get_feature_names().index(word)\n",
        "  X_train_counts_filtered[:,i] = np.transpose(X_train_counts.getcol(train_index).toarray())[0]\n",
        "  X_test_counts_filtered[:,i] = np.transpose(X_test_counts.getcol(test_index).toarray())[0]\n",
        "\n",
        "#x2_test.shape\n",
        "#get tfidf for x test\n",
        "tfidf_transformer2 = TfidfTransformer(use_idf=False)\n",
        "\n",
        "X_train_idf_filtered = tfidf_transformer2.fit_transform(X_train_counts_filtered)\n",
        "X_train_idf_filtered_array = X_train_idf_filtered.toarray()\n",
        "\n",
        "X_test_idf_filtered = tfidf_transformer2.fit_transform(X_test_counts_filtered)\n",
        "X_test_idf_filtered_array = X_test_idf_filtered.toarray()"
      ]
    },
    {
      "cell_type": "markdown",
      "metadata": {
        "id": "FUjqIFDQm7Q7"
      },
      "source": [
        "## Multiclass Regression\n",
        "\n",
        "In this section, I run the multi-class regression on the cleaned 20newsgroupdata, before doing analysis on the prediction results."
      ]
    },
    {
      "cell_type": "markdown",
      "metadata": {
        "id": "3XgYJbIwm9sj"
      },
      "source": [
        "### Multiclass Regression Class"
      ]
    },
    {
      "cell_type": "code",
      "execution_count": 113,
      "metadata": {
        "id": "o-nVPXzWm9U2"
      },
      "outputs": [],
      "source": [
        "def evaluate(y, y_pred):\n",
        "    accuracy = sum(y_pred.argmax(axis=1) == y.argmax(axis=1))\n",
        "    accuracy = accuracy / y.shape[0]\n",
        "    return accuracy\n",
        "class Multinomial_logistic:\n",
        "    def __init__(self, nFeatures, nClasses):\n",
        "        self.W = np.random.rand(nFeatures, nClasses)\n",
        "\n",
        "    def predict(self, X):\n",
        "        y_pred = np.exp(np.matmul(X, self.W))\n",
        "        return y_pred / y_pred.sum(axis=1).reshape(X.shape[0], 1)\n",
        "\n",
        "    def grad(self, X, y):\n",
        "        return np.matmul(X.transpose(), self.predict(X) - y)\n",
        "\n",
        "    def ce(self, X, y):\n",
        "        return -np.sum(y * np.log(self.predict(X)))\n",
        "\n",
        "    # modify it to add stopping criteria (what can you think of?)\n",
        "    def fit(self, X, y, X_valid=None, y_valid=None, lr=0.005, niter=100):\n",
        "        losses_train = np.zeros(niter)\n",
        "        losses_valid = np.zeros(niter)\n",
        "        for i in range(niter):\n",
        "            self.W = self.W - lr * self.grad(X, y)\n",
        "            loss_train = self.ce(X, y)\n",
        "            losses_train[i] = loss_train\n",
        "            if X_valid is not None and y_valid is not None:\n",
        "                loss_valid = self.ce(X_valid, y_valid)\n",
        "                losses_valid[i] = loss_valid\n",
        "                #print(f\"iter {i}: {loss_train:.3f}; {loss_valid:.3f}\")\n",
        "            #else:\n",
        "                #print(f\"iter {i}: {loss_train:.3f}\")\n",
        "        return losses_train, losses_valid\n",
        "\n",
        "    def check_grad(self, X, y):\n",
        "        N, C = y.shape\n",
        "        D = X.shape[1]\n",
        "\n",
        "        diff = np.zeros((D, C))\n",
        "\n",
        "        W = self.W.copy()\n",
        "\n",
        "        for i in range(D):\n",
        "            for j in range(C):\n",
        "                epsilon = np.zeros((D, C))\n",
        "                epsilon[i, j] = np.random.rand() * 1e-4\n",
        "\n",
        "                self.W = self.W + epsilon\n",
        "                J1 = self.ce(X, y)\n",
        "                self.W = W\n",
        "\n",
        "                self.W = self.W - epsilon\n",
        "                J2 = self.ce(X, y)\n",
        "                self.W = W\n",
        "\n",
        "                numeric_grad = (J1 - J2) / (2 * epsilon[i, j])\n",
        "                derived_grad = self.grad(X, y)[i, j]\n",
        "\n",
        "                diff[i, j] = np.square(derived_grad - numeric_grad).sum() / \\\n",
        "                             np.square(derived_grad + numeric_grad).sum()\n",
        "\n",
        "        # print(diff)\n",
        "        return diff.sum()\n"
      ]
    },
    {
      "cell_type": "code",
      "execution_count": 114,
      "metadata": {
        "id": "k-rRAhYhIM7V"
      },
      "outputs": [],
      "source": [
        "#includes early stopping bby check avg validation loss for lookback iter if greater than previousstop\n",
        "class Multi_with_early_stopping(Multinomial_logistic):\n",
        "  def fit(self, X,y,X_valid=None,y_valid=None,lr=0.005,niter=100,early_stopping = False, look_back = 1):\n",
        "        losses_train = np.zeros(niter)\n",
        "        losses_valid = np.zeros(niter)\n",
        "        for i in range(niter):\n",
        "            self.W = self.W - lr * self.grad(X, y)\n",
        "            loss_train = self.ce(X, y)\n",
        "            losses_train[i] = loss_train\n",
        "            if X_valid is not None and y_valid is not None:\n",
        "                loss_valid = self.ce(X_valid, y_valid)\n",
        "                losses_valid[i] = loss_valid\n",
        "                #print(f\"iter {i}: {loss_train:.3f}; {loss_valid:.3f}\")\n",
        "                if early_stopping and i>look_back:\n",
        "                  loss_is_greater = (loss_valid > np.mean(losses_valid[i-look_back:i]))#compare current validation loss with before\n",
        "                  if loss_is_greater:\n",
        "                    print('\\nEarly stoppng at iter{} due to increase in validation loss'.format(i))\n",
        "                    losses_train = losses_train[:i]\n",
        "                    losses_valid = losses_valid[:i]\n",
        "                    break\n",
        "            else:\n",
        "                #print(f\"iter {i}: {loss_train:.3f}\")\n",
        "                pass\n",
        "        return losses_train, losses_valid    "
      ]
    },
    {
      "cell_type": "markdown",
      "metadata": {
        "id": "u-sIFV5BnC6L"
      },
      "source": [
        "### Predictions"
      ]
    },
    {
      "cell_type": "code",
      "execution_count": 115,
      "metadata": {
        "colab": {
          "base_uri": "https://localhost:8080/"
        },
        "id": "ZmvBRDHDnI97",
        "outputId": "10b8c3b3-6614-46a3-ca85-839291244720"
      },
      "outputs": [
        {
          "name": "stdout",
          "output_type": "stream",
          "text": [
            "(1188, 134)\n",
            "(1188, 135)\n"
          ]
        }
      ],
      "source": [
        "\n",
        "#split training into training and valid\n",
        "X_train_pre, X_valid, y_train, y_valid = model_selection.train_test_split(\n",
        "    X_train_idf_filtered_array, y_train_50, test_size = 0.5, random_state=1, shuffle=False)\n",
        "N, C = y_train.shape\n",
        "print(X_train_pre.shape)\n",
        "#X_train = preprocessing.scale(X_train) # standardize input data\n",
        "X_train = np.c_[X_train_pre, np.ones(N)] # add one column to learn the linear intercept\n",
        "print(X_train.shape)\n",
        "#X_valid = preprocessing.scale(X_valid)\n",
        "X_valid = np.c_[X_valid, np.ones(X_valid.shape[0])]\n",
        "#x2_test = preprocessing.scale(x2_test_idf_array)\n",
        "x2_test = np.c_[X_test_idf_filtered_array , np.ones(X_test_idf_filtered_array .shape[0])]\n",
        "D = X_train.shape[1]"
      ]
    },
    {
      "cell_type": "code",
      "execution_count": 116,
      "metadata": {
        "colab": {
          "base_uri": "https://localhost:8080/"
        },
        "id": "D4IgbeBbnNTU",
        "outputId": "27a2d4ea-e66f-4fd6-b92b-62e37247a258"
      },
      "outputs": [
        {
          "name": "stdout",
          "output_type": "stream",
          "text": [
            "2.5254180343200126e-14\n"
          ]
        }
      ],
      "source": [
        "mlr = Multinomial_logistic(D, C)\n",
        "print(mlr.check_grad(X_train, y_train))\n",
        "ce_train, ce_valid = mlr.fit(X_train, y_train, X_valid, y_valid,lr = 0.001, niter=1500)\n",
        "optimal_niter = ce_valid.argmin()"
      ]
    },
    {
      "cell_type": "code",
      "execution_count": 117,
      "metadata": {
        "colab": {
          "base_uri": "https://localhost:8080/"
        },
        "id": "1wSpxNy_6v3x",
        "outputId": "e80e9549-8a15-455e-e060-59aa6b9add79"
      },
      "outputs": [
        {
          "data": {
            "text/plain": [
              "array([[0.03131463, 0.00460733, 0.08226424, 0.8818138 ],\n",
              "       [0.07207228, 0.47780737, 0.1370909 , 0.31302945],\n",
              "       [0.0535228 , 0.08139114, 0.55236786, 0.31271819],\n",
              "       ...,\n",
              "       [0.03547446, 0.56918939, 0.24154721, 0.15378894],\n",
              "       [0.12262429, 0.84376889, 0.01180627, 0.02180054],\n",
              "       [0.06696931, 0.03597398, 0.31390722, 0.58314948]])"
            ]
          },
          "execution_count": 117,
          "metadata": {},
          "output_type": "execute_result"
        }
      ],
      "source": [
        "mlr.predict(X_train)"
      ]
    },
    {
      "cell_type": "code",
      "execution_count": 118,
      "metadata": {
        "colab": {
          "base_uri": "https://localhost:8080/"
        },
        "id": "P1fhjA6T61DL",
        "outputId": "f5ec6984-b53b-4ccf-96a1-9fc67201e2d1"
      },
      "outputs": [
        {
          "data": {
            "text/plain": [
              "array([[0., 0., 0., 1.],\n",
              "       [0., 1., 0., 0.],\n",
              "       [0., 1., 0., 0.],\n",
              "       ...,\n",
              "       [0., 1., 0., 0.],\n",
              "       [0., 1., 0., 0.],\n",
              "       [0., 0., 1., 0.]])"
            ]
          },
          "execution_count": 118,
          "metadata": {},
          "output_type": "execute_result"
        }
      ],
      "source": [
        "y_train"
      ]
    },
    {
      "cell_type": "code",
      "execution_count": 119,
      "metadata": {
        "colab": {
          "base_uri": "https://localhost:8080/",
          "height": 331
        },
        "id": "0NzBEO5hoDvk",
        "outputId": "4aec8265-b051-47ed-a204-9b93ffa3f976"
      },
      "outputs": [
        {
          "name": "stdout",
          "output_type": "stream",
          "text": [
            "train acc before optimal iter 0.797979797979798\n",
            "valid acc before optimal iter 0.7291841883936081\n",
            "test acc before optimal iter 0.6972187104930467\n"
          ]
        },
        {
          "data": {
            "image/png": "[encoded data removed]",
            "text/plain": [
              "<Figure size 432x288 with 1 Axes>"
            ]
          },
          "metadata": {
            "needs_background": "light"
          },
          "output_type": "display_data"
        }
      ],
      "source": [
        "train_accuracy = evaluate(mlr.predict(X_train), y_train)\n",
        "valid_accuracy = evaluate(mlr.predict(X_valid), y_valid)\n",
        "test_accuracy = evaluate(mlr.predict(x2_test), y2_test)\n",
        "print(\"train acc before optimal iter\",train_accuracy)\n",
        "print(\"valid acc before optimal iter\",valid_accuracy)\n",
        "print(\"test acc before optimal iter\",test_accuracy)\n",
        "plt.clf()\n",
        "plt.plot(ce_train/X_train.shape[0], label='train')\n",
        "plt.plot(ce_valid/X_valid.shape[0], label='valid')\n",
        "plt.xlabel(\"iteration\")\n",
        "plt.ylabel(\"CE\")\n",
        "plt.legend()\n",
        "# plt.show()\n",
        "plt.savefig(\"training_ce.png\", bbox_inches=\"tight\", dpi=300)"
      ]
    },
    {
      "cell_type": "markdown",
      "metadata": {
        "id": "3hijaMv1KBH8"
      },
      "source": [
        "#### Use Optimal Niter"
      ]
    },
    {
      "cell_type": "code",
      "execution_count": 120,
      "metadata": {
        "id": "Fc_swstcHakX"
      },
      "outputs": [],
      "source": [
        "mlr = Multinomial_logistic(D, C)\n",
        "optimal_niter = ce_valid.argmin()\n",
        "ce_train, ce_valid = mlr.fit(X_train, y_train, X_valid, y_valid,lr = 0.001, niter=optimal_niter) # retrain the model using best niter"
      ]
    },
    {
      "cell_type": "code",
      "execution_count": 121,
      "metadata": {
        "colab": {
          "base_uri": "https://localhost:8080/",
          "height": 331
        },
        "id": "uf5aZvN9Hc1R",
        "outputId": "fb648612-ce84-400f-97ac-56b60440b618"
      },
      "outputs": [
        {
          "name": "stdout",
          "output_type": "stream",
          "text": [
            "train acc after optimal iter 0.7996632996632996\n",
            "valid acc after optimal iter 0.7308662741799832\n",
            "test acc after optimal iter 0.695322376738306\n"
          ]
        },
        {
          "data": {
            "image/png": "[encoded data removed]",
            "text/plain": [
              "<Figure size 432x288 with 1 Axes>"
            ]
          },
          "metadata": {
            "needs_background": "light"
          },
          "output_type": "display_data"
        }
      ],
      "source": [
        "train_accuracy = evaluate(mlr.predict(X_train), y_train)\n",
        "valid_accuracy = evaluate(mlr.predict(X_valid), y_valid)\n",
        "test_accuracy = evaluate(mlr.predict(x2_test), y2_test)\n",
        "print(\"train acc after optimal iter\",train_accuracy)\n",
        "print(\"valid acc after optimal iter\",valid_accuracy)\n",
        "print(\"test acc after optimal iter\",test_accuracy)\n",
        "plt.clf()\n",
        "plt.plot(ce_train/X_train.shape[0], label='train')\n",
        "plt.plot(ce_valid/X_valid.shape[0], label='valid')\n",
        "plt.xlabel(\"iteration\")\n",
        "plt.ylabel(\"CE\")\n",
        "plt.legend()\n",
        "# plt.show()\n",
        "plt.savefig(\"training_ce.png\", bbox_inches=\"tight\", dpi=300)"
      ]
    },
    {
      "cell_type": "markdown",
      "metadata": {
        "id": "CSAeWQUXnIrc"
      },
      "source": [
        "#### Use Early Stopping"
      ]
    },
    {
      "cell_type": "code",
      "execution_count": 122,
      "metadata": {
        "colab": {
          "base_uri": "https://localhost:8080/"
        },
        "id": "_dlCTxp_KRGD",
        "outputId": "924ccab1-86ff-493f-c9c6-a1cad070f176"
      },
      "outputs": [
        {
          "name": "stdout",
          "output_type": "stream",
          "text": [
            "\n",
            "Early stoppng at iter736 due to increase in validation loss\n"
          ]
        }
      ],
      "source": [
        "mlr = Multi_with_early_stopping(D,C)\n",
        "## fit model\n",
        "ce_train, ce_valid = mlr.fit(X_train, y_train, X_valid, y_valid,lr=0.005, niter=100000,early_stopping=True,look_back = 5)"
      ]
    },
    {
      "cell_type": "code",
      "execution_count": 123,
      "metadata": {
        "colab": {
          "base_uri": "https://localhost:8080/",
          "height": 331
        },
        "id": "j4y3cCOmOopz",
        "outputId": "5491eba7-6b6c-4f28-f242-acfb028451f7"
      },
      "outputs": [
        {
          "name": "stdout",
          "output_type": "stream",
          "text": [
            "train acc with early stopping 0.8215488215488216\n",
            "valid acc with early stopping 0.7333894028595458\n",
            "test acc with early stopping 0.706700379266751\n"
          ]
        },
        {
          "data": {
            "image/png": "[encoded data removed]",
            "text/plain": [
              "<Figure size 432x288 with 1 Axes>"
            ]
          },
          "metadata": {
            "needs_background": "light"
          },
          "output_type": "display_data"
        }
      ],
      "source": [
        "plt.clf()\n",
        "train_accuracy100 = evaluate(mlr.predict(X_train), y_train)\n",
        "valid_accuracy100 = evaluate(mlr.predict(X_valid), y_valid)\n",
        "test_accuracy100 = evaluate(mlr.predict(x2_test), y2_test)\n",
        "print(\"train acc with early stopping\",train_accuracy100)\n",
        "print(\"valid acc with early stopping\",valid_accuracy100)\n",
        "print(\"test acc with early stopping\",test_accuracy100)\n",
        "plt.plot(ce_train/X_train.shape[0], label='train')\n",
        "plt.plot(ce_valid/X_valid.shape[0], label='valid')\n",
        "plt.xlabel(\"iteration\")\n",
        "plt.ylabel(\"CE\")\n",
        "plt.legend()\n",
        "# plt.show()\n",
        "plt.savefig(\"training_ce.png\", bbox_inches=\"tight\", dpi=300)"
      ]
    },
    {
      "cell_type": "markdown",
      "metadata": {
        "id": "V-uo8wKMigzl"
      },
      "source": [
        "####Check Gradient"
      ]
    },
    {
      "cell_type": "code",
      "execution_count": 124,
      "metadata": {
        "colab": {
          "base_uri": "https://localhost:8080/"
        },
        "id": "en64mWiugyVB",
        "outputId": "abad8f4e-3bbb-4533-90bc-5cf73cbc06eb"
      },
      "outputs": [
        {
          "name": "stdout",
          "output_type": "stream",
          "text": [
            "6.483660372721892e-07\n"
          ]
        }
      ],
      "source": [
        "#check gradient\n",
        "print(mlr.check_grad(X_train, y_train))"
      ]
    },
    {
      "cell_type": "markdown",
      "metadata": {
        "id": "Pk1TGf2puWfl"
      },
      "source": [
        "### Comparison to K-nearest neighbours"
      ]
    },
    {
      "cell_type": "code",
      "execution_count": 125,
      "metadata": {
        "id": "R4bHGe_iy2d-"
      },
      "outputs": [],
      "source": [
        "x2_train_knn = X_train_idf_filtered_array.copy()\n",
        "x2_test_knn = X_test_idf_filtered_array.copy()\n",
        "y2_train_knn = np.where(y_train_50==1)[1]\n",
        "y2_test_knn = np.where(y2_test==1)[1]"
      ]
    },
    {
      "cell_type": "code",
      "execution_count": 126,
      "metadata": {
        "colab": {
          "base_uri": "https://localhost:8080/"
        },
        "id": "dhYUcY_iueDo",
        "outputId": "c0a0915a-7c92-48bb-f431-7a41df3bc3d4"
      },
      "outputs": [
        {
          "name": "stdout",
          "output_type": "stream",
          "text": [
            "Multiclass training accuracy: 0.7210769877997476\n",
            "Multiclass testing accuracy: 0.54551201011378\n"
          ]
        }
      ],
      "source": [
        "KNN = KNeighborsClassifier(n_neighbors=5)\n",
        "KNN.fit(x2_train_knn, y2_train_knn) #comparison to multiclass regression\n",
        "\n",
        "y2_train_knn_pred = KNN.predict(x2_train_knn)\n",
        "y2_test_knn_pred = KNN.predict(x2_test_knn)\n",
        "\n",
        "print(\"Multiclass training accuracy:\",metrics.accuracy_score(y2_train_knn, y2_train_knn_pred))\n",
        "print(\"Multiclass testing accuracy:\",metrics.accuracy_score(y2_test_knn, y2_test_knn_pred))"
      ]
    },
    {
      "cell_type": "markdown",
      "metadata": {
        "id": "Uo_Y37k7EXt-"
      },
      "source": [
        "### Heatmap"
      ]
    },
    {
      "cell_type": "code",
      "execution_count": 127,
      "metadata": {
        "colab": {
          "base_uri": "https://localhost:8080/",
          "height": 359
        },
        "id": "PWbnZiK6EXUL",
        "outputId": "59115161-60c3-4f6b-9f4f-88b2b2065497"
      },
      "outputs": [
        {
          "data": {
            "image/png": "[encoded data removed]",
            "text/plain": [
              "<Figure size 432x288 with 2 Axes>"
            ]
          },
          "metadata": {
            "needs_background": "light"
          },
          "output_type": "display_data"
        }
      ],
      "source": [
        "from seaborn import heatmap\n",
        "W_hat = mlr.W\n",
        "#change w to have 5 rows most positive for each class\n",
        "W_top_five = []\n",
        "heatind = []\n",
        "for c in range(W_hat.shape[1]):\n",
        "  heatind.append(np.argpartition(W_hat[:,c], -5)[-5:])\n",
        "  W_top_five.append(W_hat[np.argpartition(W_hat[:,c], -5)[-5:]])\n",
        "\n",
        "W_top_five = np.array(W_top_five)\n",
        "W_top_five=np.reshape(W_top_five,(20,4))\n",
        "heatind = np.array(heatind)\n",
        "heatind=np.reshape(heatind,(20,1))\n",
        "W_hat_transformed_df = pd.DataFrame(W_top_five, columns=categories, index=x_trained_words[heatind])\n",
        "hmp = heatmap(W_hat_transformed_df, cmap='RdBu_r', center=0)\n",
        "fig = hmp.get_figure()\n",
        "fig.savefig(\"W_hat.png\")"
      ]
    },
    {
      "cell_type": "markdown",
      "metadata": {
        "id": "2g9GfHGA-u3b"
      },
      "source": [
        "### Varying Size of Training Data"
      ]
    },
    {
      "cell_type": "code",
      "execution_count": 128,
      "metadata": {
        "colab": {
          "base_uri": "https://localhost:8080/",
          "height": 860
        },
        "id": "rCfJv2Rp-yqR",
        "outputId": "086d8fde-4537-4769-9db3-c9714f48ef22"
      },
      "outputs": [
        {
          "name": "stdout",
          "output_type": "stream",
          "text": [
            "\n",
            "Early stoppng at iter582 due to increase in validation loss\n",
            "train acc with early stopping0.9240506329113924,iteration 3\n",
            "valid acc with early stopping0.607232968881413,iteration 3\n",
            "test acc with early stopping0.5790139064475348,iteration 3\n",
            "\n",
            "Early stoppng at iter511 due to increase in validation loss\n",
            "train acc with early stopping0.8652631578947368,iteration 3\n",
            "valid acc with early stopping0.6719932716568545,iteration 3\n",
            "test acc with early stopping0.6479140328697851,iteration 3\n",
            "\n",
            "Early stoppng at iter484 due to increase in validation loss\n",
            "train acc with early stopping0.8469101123595506,iteration 3\n",
            "valid acc with early stopping0.6896551724137931,iteration 3\n",
            "test acc with early stopping0.6814159292035398,iteration 3\n",
            "\n",
            "Early stoppng at iter577 due to increase in validation loss\n",
            "train acc with early stopping0.8442105263157895,iteration 3\n",
            "valid acc with early stopping0.7073170731707317,iteration 3\n",
            "test acc with early stopping0.690897597977244,iteration 3\n"
          ]
        },
        {
          "data": {
            "image/png": "[encoded data removed]",
            "text/plain": [
              "<Figure size 432x288 with 1 Axes>"
            ]
          },
          "metadata": {
            "needs_background": "light"
          },
          "output_type": "display_data"
        },
        {
          "data": {
            "image/png": "[encoded data removed]",
            "text/plain": [
              "<Figure size 432x288 with 1 Axes>"
            ]
          },
          "metadata": {
            "needs_background": "light"
          },
          "output_type": "display_data"
        }
      ],
      "source": [
        "#vary size of training set by 20,40,60,80%\n",
        "#training set\n",
        "#20%\n",
        "X2_train20, _, y2_train20, _ = model_selection.train_test_split(\n",
        "    X_train, y_train, train_size = 0.2, random_state=1, shuffle=False)\n",
        "#40%\n",
        "X2_train40, _, y2_train40, _ = model_selection.train_test_split(\n",
        "    X_train, y_train, train_size = 0.4, random_state=1, shuffle=False)\n",
        "#60%\n",
        "X2_train60, _, y2_train60, _ = model_selection.train_test_split(\n",
        "    X_train, y_train, train_size = 0.6, random_state=1, shuffle=False)\n",
        "#20%\n",
        "X2_train80, _, y2_train80, _ = model_selection.train_test_split(\n",
        "    X_train, y_train, train_size = 0.8, random_state=1, shuffle=False)\n",
        "\n",
        "x_train_sets = [X2_train20,X2_train40,X2_train60,X2_train80]\n",
        "y_train_sets = [y2_train20,y2_train40,y2_train60,y2_train80]\n",
        "\n",
        "N, C = y_train.shape\n",
        "test_acc = []\n",
        "valid_acc = []\n",
        "train_acc = []\n",
        "for s in range(4):\n",
        "  N, C = y_train_sets[s].shape\n",
        "  D = x_train_sets[s].shape[1]\n",
        "  mlr = Multi_with_early_stopping(D,C)\n",
        "  ce_train, ce_valid = mlr.fit(x_train_sets[s], y_train_sets[s], X_valid, y_valid,lr=0.005, niter=100000,early_stopping=True,look_back = 5)\n",
        "  train_accuracy = evaluate(mlr.predict(x_train_sets[s]), y_train_sets[s])\n",
        "  train_acc.append(train_accuracy)\n",
        "  valid_accuracy = evaluate(mlr.predict(X_valid), y_valid)\n",
        "  valid_acc.append(valid_accuracy)\n",
        "  test_accuracy = evaluate(mlr.predict(x2_test), y2_test)\n",
        "  test_acc.append(test_accuracy)\n",
        "  print(f\"train acc with early stopping{train_accuracy},iteration {c}\")\n",
        "  print(f\"valid acc with early stopping{valid_accuracy},iteration {c}\")\n",
        "  print(f\"test acc with early stopping{test_accuracy},iteration {c}\")\n",
        "\n",
        "test_acc.append(test_accuracy100)\n",
        "train_acc.append(train_accuracy100)\n",
        "valid_acc.append(valid_accuracy100)\n",
        "\n",
        "x_label = [20,40,60,80,100]\n",
        "plt.plot(x_label, test_acc, label = \"testing accuracies\")\n",
        "plt.plot(x_label, train_acc, label = \"training accuracies\")\n",
        "plt.plot(x_label, valid_acc, label = \"valid accuracies\")\n",
        "plt.xticks(x_label)\n",
        "plt.legend()\n",
        "plt.show()\n",
        "plt.bar(x_label,test_acc,width = 10)\n",
        "plt.xticks(x_label)\n",
        "plt.show()"
      ]
    },
    {
      "cell_type": "code",
      "execution_count": 129,
      "metadata": {
        "colab": {
          "base_uri": "https://localhost:8080/",
          "height": 513
        },
        "id": "F36dS8E-RUPN",
        "outputId": "e78e631a-f076-458e-c49c-a8867c042bfe"
      },
      "outputs": [
        {
          "data": {
            "image/png": "[encoded data removed]",
            "text/plain": [
              "<Figure size 432x288 with 1 Axes>"
            ]
          },
          "metadata": {
            "needs_background": "light"
          },
          "output_type": "display_data"
        },
        {
          "data": {
            "image/png": "[encoded data removed]",
            "text/plain": [
              "<Figure size 432x288 with 1 Axes>"
            ]
          },
          "metadata": {
            "needs_background": "light"
          },
          "output_type": "display_data"
        }
      ],
      "source": [
        "x_label = [20,40,60,80,100]\n",
        "plt.plot(x_label, test_acc, label = \"testing accuracies\")\n",
        "plt.plot(x_label, train_acc, label = \"training accuracies\")\n",
        "plt.plot(x_label, valid_acc, label = \"valid accuracies\")\n",
        "plt.xticks(x_label)\n",
        "plt.legend()\n",
        "plt.show()\n",
        "plt.bar(x_label,test_acc,width = 10)\n",
        "plt.xticks(x_label)\n",
        "plt.show()"
      ]
    },
    {
      "cell_type": "markdown",
      "metadata": {
        "id": "z58e4GU_PGOW"
      },
      "source": [
        "# Additional Experiments"
      ]
    },
    {
      "cell_type": "markdown",
      "metadata": {
        "id": "0PmdoTcAPw3z"
      },
      "source": [
        "##Ridge Classifier"
      ]
    },
    {
      "cell_type": "markdown",
      "metadata": {
        "id": "nzKZe-tvlWbu"
      },
      "source": [
        "###News Data"
      ]
    },
    {
      "cell_type": "code",
      "execution_count": 130,
      "metadata": {
        "colab": {
          "base_uri": "https://localhost:8080/"
        },
        "id": "wlLONUsLPF0U",
        "outputId": "b7f2c218-59f4-4e17-99a6-de0a6c169212"
      },
      "outputs": [
        {
          "name": "stdout",
          "output_type": "stream",
          "text": [
            "Ridge CLassifier accuracy on training data 0.7070707070707071\n",
            "Ridge Classifier accuracy on test data 0.622629582806574\n"
          ]
        }
      ],
      "source": [
        "from sklearn.linear_model import RidgeClassifier\n",
        "rig = RidgeClassifier(alpha = 0.01).fit(X_train, y_train)\n",
        "rig.score(X_train, y_train)\n",
        "\n",
        "test_accuracy = evaluate(rig.predict(x2_test), y2_test)\n",
        "train_accuracy = evaluate(rig.predict(X_train), y_train)\n",
        "print(\"Ridge CLassifier accuracy on training data\",train_accuracy )\n",
        "print(\"Ridge Classifier accuracy on test data\",test_accuracy)"
      ]
    },
    {
      "cell_type": "code",
      "execution_count": 131,
      "metadata": {
        "colab": {
          "base_uri": "https://localhost:8080/"
        },
        "id": "rCE_xBY2ofa9",
        "outputId": "4df1f06a-2148-454e-fa68-f504986c06e9"
      },
      "outputs": [
        {
          "name": "stdout",
          "output_type": "stream",
          "text": [
            "Ridge CLassifier accuracy on training data 0.87172\n",
            "Ridge Classifier accuracy on test data 0.86316\n"
          ]
        }
      ],
      "source": [
        "rig = RidgeClassifier(alpha = 0.01,max_iter = 10000).fit(x1_train_std, y1_train_binary)\n",
        "rig.score(x1_train_std, y1_train_binary)\n",
        "\n",
        "test_accuracy = np.count_nonzero(rig.predict(x1_test_std) == y1_test_binary) / y1_test_binary.shape[0]\n",
        "train_accuracy = np.count_nonzero(rig.predict(x1_train_std) == y1_train_binary) / y1_train_binary.shape[0]\n",
        "print(\"Ridge CLassifier accuracy on training data\",train_accuracy )\n",
        "print(\"Ridge Classifier accuracy on test data\",test_accuracy)"
      ]
    },
    {
      "cell_type": "markdown",
      "metadata": {
        "id": "Irbme2UhdH0g"
      },
      "source": [
        "##Lasso Classifier"
      ]
    },
    {
      "cell_type": "markdown",
      "metadata": {
        "id": "2vf9i34plbBf"
      },
      "source": [
        "###News Data"
      ]
    },
    {
      "cell_type": "code",
      "execution_count": 132,
      "metadata": {
        "colab": {
          "base_uri": "https://localhost:8080/"
        },
        "id": "m6gis7I1dKH8",
        "outputId": "5092b5d2-a5b8-405d-915c-a58f599813c1"
      },
      "outputs": [
        {
          "name": "stdout",
          "output_type": "stream",
          "text": [
            "Lasso Classifier accuracy on training data 0.7744107744107744\n",
            "Lasso Classifier accuracy on test data 0.7092288242730721\n"
          ]
        }
      ],
      "source": [
        "from sklearn import linear_model\n",
        "\n",
        "lasso = linear_model.Lasso(alpha=0.001).fit(X_train, y_train)\n",
        "test_accuracy = evaluate(lasso.predict(x2_test), y2_test)\n",
        "train_accuracy = evaluate(lasso.predict(X_train), y_train)\n",
        "print(\"Lasso Classifier accuracy on training data\",train_accuracy )\n",
        "print(\"Lasso Classifier accuracy on test data\",test_accuracy)"
      ]
    },
    {
      "cell_type": "code",
      "execution_count": 133,
      "metadata": {
        "colab": {
          "base_uri": "https://localhost:8080/"
        },
        "id": "iapFoCdYodV3",
        "outputId": "b737c540-a79e-405a-91f5-006e727e8a9f"
      },
      "outputs": [
        {
          "name": "stdout",
          "output_type": "stream",
          "text": [
            "Lasso Classifier accuracy on training data 0.8718\n",
            "Lasso Classifier accuracy on test data 0.86312\n"
          ]
        }
      ],
      "source": [
        "lasso = linear_model.Lasso(alpha=0.00001).fit(x1_train_std, y1_train_binary)\n",
        "test_accuracy = np.count_nonzero((lasso.predict(x1_test_std) > 0.5).astype(int) == y1_test_binary) / y1_test_binary.shape[0]\n",
        "train_accuracy = np.count_nonzero((lasso.predict(x1_train_std) > 0.5).astype(int) == y1_train_binary) / y1_train_binary.shape[0]\n",
        "print(\"Lasso Classifier accuracy on training data\",train_accuracy)\n",
        "print(\"Lasso Classifier accuracy on test data\",test_accuracy)"
      ]
    }
  ],
  "metadata": {
    "colab": {
      "provenance": []
    },
    "kernelspec": {
      "display_name": "Python 3",
      "name": "python3"
    },
    "language_info": {
      "name": "python"
    }
  },
  "nbformat": 4,
  "nbformat_minor": 0
}
